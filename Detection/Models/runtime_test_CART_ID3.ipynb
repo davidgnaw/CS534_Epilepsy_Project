{
 "cells": [
  {
   "cell_type": "code",
   "execution_count": 1,
   "metadata": {},
   "outputs": [],
   "source": [
    "import csv\n",
    "import pandas as pd\n",
    "import numpy as np\n",
    "from sklearn.model_selection import train_test_split\n",
    "import math\n",
    "import time\n",
    "from sklearn.metrics import roc_auc_score\n",
    "from sklearn.metrics import accuracy_score\n",
    "from sklearn.metrics import confusion_matrix\n",
    "from sklearn.metrics import f1_score\n",
    "\n",
    "\n",
    "from sklearn.utils import shuffle\n",
    "from sklearn.svm import LinearSVC\n",
    "from sklearn.model_selection import GridSearchCV\n",
    "from sklearn.feature_selection import SelectFromModel\n",
    "import warnings\n"
   ]
  },
  {
   "cell_type": "code",
   "execution_count": 2,
   "metadata": {},
   "outputs": [
    {
     "name": "stdout",
     "output_type": "stream",
     "text": [
      "One-second eeg segments: 10\n",
      "Extracted features: 5372\n"
     ]
    }
   ],
   "source": [
    "csv = pd.read_csv('Patient_1_train.csv')\n",
    "\n",
    "#csv = pd.read_csv('Patient_2.csv')\n",
    "\n",
    "#Shuffle panda dataframe\n",
    "csv = csv.sample(frac = 1)\n",
    "csv = csv.tail(500) \n",
    "\n",
    "\n",
    "# Ignore warnings\n",
    "warnings.filterwarnings(\"ignore\")\n",
    "\n",
    "# Load the extracted features\n",
    "csv = shuffle(csv)\n",
    "csv = csv.reset_index(drop=True)\n",
    "features = np.array(csv.drop(csv.iloc[:, [-1]], axis=1))  # Discard the class\n",
    "labels = np.array(csv.iloc[:, [-1]])\n",
    "feature_names = csv.columns[:-1]\n",
    "print(\"One-second eeg segments: {}\".format(features.shape[0]))\n",
    "print(\"Extracted features: {}\".format(features.shape[1]))\n",
    "\n",
    "# Feature Selection\n",
    "est = LinearSVC(penalty=\"l1\", dual=False)\n",
    "c_grid = {'C': np.logspace(-3, 1, num=30)}\n",
    "clf = GridSearchCV(estimator=est, param_grid=c_grid).fit(features,labels)\n",
    "reg_param = clf.best_params_['C']\n",
    "\n",
    "lsvc = LinearSVC(C=reg_param, penalty=\"l1\", dual=False).fit(features, labels)\n",
    "model = SelectFromModel(lsvc, prefit=True)\n",
    "features_reduced = model.transform(features)\n",
    "\n",
    "# Labels (values to predict... ictal or interictal)\n",
    "# Label 0 is interictal (nonseizure) and 1 is ictal (seizure)\n",
    "\n",
    "\n",
    "train_features, test_features, train_labels, test_labels = train_test_split(features_reduced, labels, test_size=0.20, random_state = 42)\n",
    "\n",
    "\n",
    "# (pandas) -> FOR Decision Tree Implementations\n",
    "\n",
    "labels2 = csv[\"label\"]\n",
    "features2 = csv.drop(columns = \"label\", axis = 1)\n",
    "\n",
    "# Split to train-test\n",
    "\n",
    "train_features2, test_features2, train_labels2, test_labels2 = train_test_split(features2, labels2, test_size=0.20, random_state = 42)\n",
    "\n",
    "\n"
   ]
  },
  {
   "cell_type": "code",
   "execution_count": 3,
   "metadata": {},
   "outputs": [
    {
     "name": "stdout",
     "output_type": "stream",
     "text": [
      "3.041945219039917 seconds\n"
     ]
    }
   ],
   "source": [
    "# Random Forest Algorithm WITH CART -> Classification and Regression Trees \n",
    "\n",
    "# sckit-learn already implements CART as their tree building algorithm for decision trees into a random forest\n",
    "\n",
    "# \"scikit-learn uses an optimised version of the CART algorithm\n",
    "\n",
    "from sklearn.ensemble import RandomForestRegressor\n",
    "\n",
    "start = time.time()\n",
    "\n",
    "# Instantiate 1000 decisin tree model\n",
    "rf_CART = RandomForestRegressor(n_estimators = 1000, random_state = 42)\n",
    "\n",
    "#Train model on training data\n",
    "rf_CART.fit(train_features, train_labels)\n",
    "\n",
    "end = time.time()\n",
    "\n",
    "print(end - start, 'seconds')\n",
    "\n"
   ]
  },
  {
   "cell_type": "code",
   "execution_count": 5,
   "metadata": {},
   "outputs": [
    {
     "name": "stdout",
     "output_type": "stream",
     "text": [
      "MSE of CART Random Forest: 0.43944\n",
      "RMSE of CART Random Forest: 0.6629\n",
      "AUC: 0.9783333333333333\n",
      "Accuracy: 33\n",
      "Confusion Matrix\n",
      "[[20  0]\n",
      " [ 2 13]]\n",
      "Sensitivity: 0.8666666666666667 Specificity: 1.0\n",
      "f1_score: 0.9285714285714286\n"
     ]
    }
   ],
   "source": [
    "# make predictions and calculate MSE on test set \n",
    "\n",
    "predict_labels_rf = rf_CART.predict(test_features)\n",
    "\n",
    "# Calculate error\n",
    "MSE_rf = np.square(np.subtract(test_labels, predict_labels_rf)).mean()\n",
    "RMSE_rf = math.sqrt(MSE_rf)\n",
    "print('MSE of CART Random Forest:', round(MSE_rf, 5))\n",
    "print('RMSE of CART Random Forest:', round(RMSE_rf, 5))\n",
    "\n",
    "# Calculate AUROC\n",
    "AUC_rf = roc_auc_score(test_labels, predict_labels_rf)\n",
    "print('AUC:', AUC_rf)\n",
    "\n",
    "# Calculate accuracy score\n",
    "\n",
    "accuracy_rf = accuracy_score(test_labels, np.round(abs(predict_labels_rf)), normalize=False) \n",
    "print('Accuracy:', accuracy_rf)\n",
    "\n",
    "# Calculate confusion matrix, speficiity, sensitivity\n",
    "\n",
    "tn_rf, fp_rf, fn_rf, tp_rf = confusion_matrix(test_labels, np.round(abs(predict_labels_rf))) .ravel()\n",
    "print('Confusion Matrix')\n",
    "confusion_rf = confusion_matrix(test_labels, np.round(abs(predict_labels_rf)))\n",
    "print(confusion_rf)\n",
    "sensitivity_rf = tp_rf/(tp_rf + fn_rf)\n",
    "specificity_rf = tn_rf/(tn_rf + fp_rf)\n",
    "print('Sensitivity:', sensitivity_rf, 'Specificity:', specificity_rf)\n",
    "\n",
    "# Calculate F1 Score\n",
    "\n",
    "f1_rf = f1_score(test_labels, np.round(abs(predict_labels_rf)))\n",
    "print('f1_score:', f1_rf)\n"
   ]
  },
  {
   "cell_type": "code",
   "execution_count": 3,
   "metadata": {},
   "outputs": [
    {
     "name": "stdout",
     "output_type": "stream",
     "text": [
      "0.018156051635742188 seconds\n"
     ]
    }
   ],
   "source": [
    "# Decision Tree Algorithm WITH CART -> Classification and Regression Trees \n",
    "\n",
    "# sckit-learn already implements CART as their tree building algorithm for decision trees\n",
    "\n",
    "from sklearn.tree import DecisionTreeClassifier\n",
    "\n",
    "start = time.time()\n",
    "\n",
    "dt_CART = DecisionTreeClassifier()\n",
    "dt_CART.fit(train_features, train_labels)\n",
    "\n",
    "end = time.time()\n",
    "\n",
    "print(end - start, 'seconds')\n"
   ]
  },
  {
   "cell_type": "code",
   "execution_count": 5,
   "metadata": {},
   "outputs": [
    {
     "name": "stdout",
     "output_type": "stream",
     "text": [
      "MSE of CART Decision Tree: 0.3318\n",
      "RMSE of CART Decision Tree: 0.57602\n",
      "AUC: 0.9698613622664256\n",
      "Accuracy: 98\n",
      "Confusion Matrix\n",
      "[[78  1]\n",
      " [ 1 20]]\n",
      "Sensitivity: 0.9523809523809523 Specificity: 0.9873417721518988\n",
      "f1_score: 0.9523809523809523\n"
     ]
    }
   ],
   "source": [
    "# make predictions and calculate MSE on test set\n",
    "\n",
    "predict_labels_dt = dt_CART.predict(test_features)\n",
    "\n",
    "# Calculate error\n",
    "MSE_dt = np.square(np.subtract(test_labels, predict_labels_dt)).mean()\n",
    "RMSE_dt = math.sqrt(MSE_dt)\n",
    "print('MSE of CART Decision Tree:', round(MSE_dt, 5))\n",
    "print('RMSE of CART Decision Tree:', round(RMSE_dt, 5))\n",
    "\n",
    "# Calculate AUROC\n",
    "AUC_dt = roc_auc_score(test_labels, predict_labels_dt)\n",
    "print('AUC:', AUC_dt)\n",
    "\n",
    "# Calculate accuracy score\n",
    "\n",
    "accuracy_dt = accuracy_score(test_labels, np.round(abs(predict_labels_dt)), normalize=False) \n",
    "print('Accuracy:', accuracy_dt)\n",
    "\n",
    "# Calculate confusion matrix, speficiity, sensitivity\n",
    "\n",
    "tn_dt, fp_dt, fn_dt, tp_dt = confusion_matrix(test_labels, np.round(abs(predict_labels_dt))) .ravel()\n",
    "print('Confusion Matrix')\n",
    "confusion_dt = confusion_matrix(test_labels, np.round(abs(predict_labels_dt)))\n",
    "print(confusion_dt)\n",
    "sensitivity_dt = tp_dt/(tp_dt + fn_dt)\n",
    "specificity_dt = tn_dt/(tn_dt + fp_dt)\n",
    "print('Sensitivity:', sensitivity_dt, 'Specificity:', specificity_dt)\n",
    "\n",
    "# Calculate F1 Score\n",
    "\n",
    "f1_dt = f1_score(test_labels, np.round(abs(predict_labels_dt)))\n",
    "print('f1_score:', f1_dt)"
   ]
  },
  {
   "cell_type": "code",
   "execution_count": 5,
   "metadata": {},
   "outputs": [],
   "source": [
    "# Decision Tree Algorithm with ID3 -> Iterative Dichotomiser 3 \n",
    "\n",
    "# The basic algorithm used in decision trees is known as the ID3 (by Quinlan) algorithm. The ID3 algorithm builds decision trees using a top-down, greedy approach.\n",
    "\n",
    "\n",
    "class ID3:\n",
    "    \n",
    "  def fit(self, input, output):\n",
    "    data = input.copy()\n",
    "    data[output.name] = output\n",
    "    self.tree = self.decision_tree(data, data, input.columns, output.name)\n",
    "\n",
    "  def predict(self, input):\n",
    "    # convert input data into a dictionary of samples\n",
    "    samples = input.to_dict(orient='records')\n",
    "    predictions = []\n",
    "\n",
    "    # make a prediction for every sample\n",
    "    for sample in samples:\n",
    "      predictions.append(self.make_prediction(sample, self.tree, 1.0))\n",
    "\n",
    "    return predictions\n",
    "\n",
    "  def entropy(self, attribute_column):\n",
    "    # find unique values and their frequency counts for the given attribute\n",
    "    values, counts = np.unique(attribute_column, return_counts=True)\n",
    "\n",
    "    # calculate entropy for each unique value\n",
    "    entropy_list = []\n",
    "\n",
    "    for i in range(len(values)):\n",
    "      probability = counts[i]/np.sum(counts)\n",
    "      entropy_list.append(-probability*np.log2(probability))\n",
    "\n",
    "    # calculate sum of individual entropy values\n",
    "    total_entropy = np.sum(entropy_list)\n",
    "\n",
    "    return total_entropy\n",
    "\n",
    "  def information_gain(self, data, feature_attribute_name, target_attribute_name):\n",
    "    # find total entropy of given subset\n",
    "    total_entropy = self.entropy(data[target_attribute_name])\n",
    "\n",
    "    # find unique values and their frequency counts for the attribute to be split\n",
    "    values, counts = np.unique(data[feature_attribute_name], return_counts=True)\n",
    "\n",
    "    # calculate weighted entropy of subset\n",
    "    weighted_entropy_list = []\n",
    "\n",
    "    for i in range(len(values)):\n",
    "      subset_probability = counts[i]/np.sum(counts)\n",
    "      subset_entropy = self.entropy(data.where(data[feature_attribute_name]==values[i]).dropna()[target_attribute_name])\n",
    "      weighted_entropy_list.append(subset_probability*subset_entropy)\n",
    "\n",
    "    total_weighted_entropy = np.sum(weighted_entropy_list)\n",
    "\n",
    "    # calculate information gain\n",
    "    information_gain = total_entropy - total_weighted_entropy\n",
    "\n",
    "    return information_gain\n",
    "\n",
    "  def decision_tree(self, data, orginal_data, feature_attribute_names, target_attribute_name, parent_node_class=None):\n",
    "    # base cases:\n",
    "    # if data is pure, return the majority class of subset\n",
    "    unique_classes = np.unique(data[target_attribute_name])\n",
    "    if len(unique_classes) <= 1:\n",
    "      return unique_classes[0]\n",
    "    # if subset is empty, ie. no samples, return majority class of original data\n",
    "    elif len(data) == 0:\n",
    "      majority_class_index = np.argmax(np.unique(original_data[target_attribute_name], return_counts=True)[1])\n",
    "      return np.unique(original_data[target_attribute_name])[majority_class_index]\n",
    "    # if data set contains no features to train with, return parent node class\n",
    "    elif len(feature_attribute_names) == 0:\n",
    "      return parent_node_class\n",
    "    # if none of the above are true, construct a branch:\n",
    "    else:\n",
    "      # determine parent node class of current branch\n",
    "      majority_class_index = np.argmax(np.unique(data[target_attribute_name], return_counts=True)[1])\n",
    "      parent_node_class = unique_classes[majority_class_index]\n",
    "\n",
    "      # determine information gain values for each feature\n",
    "      # choose feature which best splits the data, ie. highest value\n",
    "      ig_values = [self.information_gain(data, feature, target_attribute_name) for feature in feature_attribute_names]\n",
    "      best_feature_index = np.argmax(ig_values)\n",
    "      best_feature = feature_attribute_names[best_feature_index]\n",
    "\n",
    "      # create tree structure, empty at first\n",
    "      tree = {best_feature: {}}\n",
    "\n",
    "      # remove best feature from available features, it will become the parent node\n",
    "      feature_attribute_names = [i for i in feature_attribute_names if i != best_feature]\n",
    "\n",
    "      # create nodes under parent node\n",
    "      parent_attribute_values = np.unique(data[best_feature])\n",
    "      for value in parent_attribute_values:\n",
    "        sub_data = data.where(data[best_feature] == value).dropna()\n",
    "\n",
    "        # call the algorithm recursively\n",
    "        subtree = self.decision_tree(sub_data, orginal_data, feature_attribute_names, target_attribute_name, parent_node_class)\n",
    "\n",
    "        # add subtree to original tree\n",
    "        tree[best_feature][value] = subtree\n",
    "\n",
    "      return tree\n",
    "\n",
    "  def make_prediction(self, sample, tree, default=1):\n",
    "    # map sample data to tree\n",
    "    for attribute in list(sample.keys()):\n",
    "      # check if feature exists in tree\n",
    "      if attribute in list(tree.keys()):\n",
    "        try:\n",
    "          result = tree[attribute][sample[attribute]]\n",
    "        except:\n",
    "          return default\n",
    "\n",
    "        result = tree[attribute][sample[attribute]]\n",
    "\n",
    "        # if more attributes exist within result, recursively find best result\n",
    "        if isinstance(result, dict):\n",
    "          return self.make_prediction(sample, result)\n",
    "        else:\n",
    "          return result\n",
    "\n"
   ]
  },
  {
   "cell_type": "code",
   "execution_count": null,
   "metadata": {},
   "outputs": [],
   "source": [
    "# Train model on training data\n",
    "\n",
    "start = time.time()\n",
    "\n",
    "dt_ID3 = ID3()\n",
    "dt_ID3.fit(train_features2, train_labels2)\n",
    "\n",
    "end = time.time()\n",
    "\n",
    "print(end - start, 'seconds')\n"
   ]
  },
  {
   "cell_type": "code",
   "execution_count": 6,
   "metadata": {},
   "outputs": [
    {
     "name": "stdout",
     "output_type": "stream",
     "text": [
      "MSE of ID3 Decision Tree: 0.6\n",
      "RMSE of ID3 Decision Tree: 0.7746\n",
      "Accuracy: 4\n",
      "Confusion Matrix\n",
      "[[0 6]\n",
      " [0 4]]\n",
      "Sensitivity: 1.0 Specificity: 0.0\n",
      "f1_score: 0.5714285714285715\n"
     ]
    }
   ],
   "source": [
    "# Predict and calculate errors\n",
    "\n",
    "predict_labels_dt2 = dt_ID3.predict(test_features2)\n",
    "\n",
    "# Calculate error\n",
    "MSE_dt2 = np.square(np.subtract(test_labels2, predict_labels_dt2)).mean()\n",
    "RMSE_dt2 = math.sqrt(MSE_dt2)\n",
    "print('MSE of ID3 Decision Tree:', round(MSE_dt2, 5))\n",
    "print('RMSE of ID3 Decision Tree:', round(RMSE_dt2, 5))\n",
    "\n",
    "\n",
    "# Calculate accuracy score\n",
    "\n",
    "accuracy_dt2 = accuracy_score(test_labels2, np.round(predict_labels_dt2), normalize=False) \n",
    "print('Accuracy:', accuracy_dt2)\n",
    "\n",
    "# Calculate confusion matrix, speficiity, sensitivity\n",
    "\n",
    "tn_dt2, fp_dt2, fn_dt2, tp_dt2 = confusion_matrix(test_labels2, np.round(predict_labels_dt2)) .ravel()\n",
    "print('Confusion Matrix')\n",
    "confusion_dt2 = confusion_matrix(test_labels2, np.round(predict_labels_dt2))\n",
    "print(confusion_dt2)\n",
    "sensitivity_dt2 = tp_dt2/(tp_dt2 + fn_dt2) # recall\n",
    "specificity_dt2 = tn_dt2/(tn_dt2 + fp_dt2) # precision\n",
    "print('Sensitivity:', sensitivity_dt2, 'Specificity:', specificity_dt2)\n",
    "\n",
    "# Calculate F1 Score\n",
    "\n",
    "f1_dt2 = f1_score(test_labels2, np.round(predict_labels_dt2))\n",
    "print('f1_score:', f1_dt2)\n",
    "\n",
    "# Calculate precision and recall\n",
    "\n",
    "prec_dt2 = tp_dt2/(tp_dt2 + fp"
   ]
  },
  {
   "cell_type": "code",
   "execution_count": 11,
   "metadata": {},
   "outputs": [
    {
     "name": "stdout",
     "output_type": "stream",
     "text": [
      "1.0.1\n"
     ]
    }
   ],
   "source": [
    "import sklearn\n",
    "sklearn_version = sklearn.__version__\n",
    "\n",
    "print(sklearn_version)"
   ]
  },
  {
   "cell_type": "code",
   "execution_count": 7,
   "metadata": {},
   "outputs": [
    {
     "ename": "NameError",
     "evalue": "name 'confusion_rf' is not defined",
     "output_type": "error",
     "traceback": [
      "\u001b[0;31m---------------------------------------------------------------------------\u001b[0m",
      "\u001b[0;31mNameError\u001b[0m                                 Traceback (most recent call last)",
      "\u001b[0;32m/var/folders/xw/gjkqcy4x1gqgcyvc45ys8srw0000gn/T/ipykernel_33707/1240031844.py\u001b[0m in \u001b[0;36m<module>\u001b[0;34m\u001b[0m\n\u001b[1;32m      7\u001b[0m \u001b[0my_axis_labels\u001b[0m \u001b[0;34m=\u001b[0m \u001b[0;34m[\u001b[0m\u001b[0;34m'intereictal'\u001b[0m\u001b[0;34m,\u001b[0m \u001b[0;34m'ictal'\u001b[0m\u001b[0;34m]\u001b[0m\u001b[0;34m\u001b[0m\u001b[0;34m\u001b[0m\u001b[0m\n\u001b[1;32m      8\u001b[0m \u001b[0;34m\u001b[0m\u001b[0m\n\u001b[0;32m----> 9\u001b[0;31m \u001b[0mconfusion_rf\u001b[0m \u001b[0;34m=\u001b[0m \u001b[0mnp\u001b[0m\u001b[0;34m.\u001b[0m\u001b[0mtranspose\u001b[0m\u001b[0;34m(\u001b[0m \u001b[0mnp\u001b[0m\u001b[0;34m.\u001b[0m\u001b[0mtranspose\u001b[0m\u001b[0;34m(\u001b[0m\u001b[0mconfusion_rf\u001b[0m\u001b[0;34m)\u001b[0m\u001b[0;34m)\u001b[0m \u001b[0;34m/\u001b[0m \u001b[0mconfusion_rf\u001b[0m\u001b[0;34m.\u001b[0m\u001b[0mastype\u001b[0m\u001b[0;34m(\u001b[0m\u001b[0mnp\u001b[0m\u001b[0;34m.\u001b[0m\u001b[0mfloat\u001b[0m\u001b[0;34m)\u001b[0m\u001b[0;34m.\u001b[0m\u001b[0msum\u001b[0m\u001b[0;34m(\u001b[0m\u001b[0maxis\u001b[0m\u001b[0;34m=\u001b[0m\u001b[0;36m1\u001b[0m\u001b[0;34m)\u001b[0m\u001b[0;34m\u001b[0m\u001b[0;34m\u001b[0m\u001b[0m\n\u001b[0m\u001b[1;32m     10\u001b[0m \u001b[0;34m\u001b[0m\u001b[0m\n\u001b[1;32m     11\u001b[0m \u001b[0mf\u001b[0m \u001b[0;34m=\u001b[0m \u001b[0msns\u001b[0m\u001b[0;34m.\u001b[0m\u001b[0mheatmap\u001b[0m\u001b[0;34m(\u001b[0m\u001b[0mconfusion_rf\u001b[0m\u001b[0;34m,\u001b[0m \u001b[0mannot\u001b[0m\u001b[0;34m=\u001b[0m\u001b[0;32mTrue\u001b[0m\u001b[0;34m,\u001b[0m \u001b[0mxticklabels\u001b[0m\u001b[0;34m=\u001b[0m\u001b[0mx_axis_labels\u001b[0m\u001b[0;34m,\u001b[0m \u001b[0myticklabels\u001b[0m\u001b[0;34m=\u001b[0m\u001b[0my_axis_labels\u001b[0m\u001b[0;34m)\u001b[0m\u001b[0;34m\u001b[0m\u001b[0;34m\u001b[0m\u001b[0m\n",
      "\u001b[0;31mNameError\u001b[0m: name 'confusion_rf' is not defined"
     ]
    }
   ],
   "source": [
    "import matplotlib.pyplot as plt\n",
    "import seaborn as sns\n",
    "\n",
    "\n",
    "# plot confusion matrix (Random Forest)\n",
    "x_axis_labels = ['interictal', 'ictal']\n",
    "y_axis_labels = ['intereictal', 'ictal']\n",
    "\n",
    "confusion_rf = np.transpose( np.transpose(confusion_rf)) / confusion_rf.astype(np.float).sum(axis=1)\n",
    "\n",
    "f = sns.heatmap(confusion_rf, annot=True, xticklabels=x_axis_labels, yticklabels=y_axis_labels)\n",
    "\n",
    "plt.xlabel('Predicted Label')\n",
    "plt.ylabel('True Label')\n",
    "plt.show()\n",
    "\n",
    "# label_c_rf = flight.pivot('true label', 'predicted label') \n",
    "\n",
    "\n",
    "\n"
   ]
  },
  {
   "cell_type": "code",
   "execution_count": 8,
   "metadata": {},
   "outputs": [
    {
     "data": {
      "image/png": "[encoded data removed]",
      "text/plain": [
       "<Figure size 432x288 with 2 Axes>"
      ]
     },
     "metadata": {
      "needs_background": "light"
     },
     "output_type": "display_data"
    }
   ],
   "source": [
    "\n",
    "# plot confusion matrix (Decision Tree)\n",
    "\n",
    "# plot confusion matrix (Random Forest)\n",
    "x_axis_labels = ['interictal', 'preictal']\n",
    "y_axis_labels = ['intereictal', 'preictal']\n",
    "\n",
    "\n",
    "confusion_dt = np.transpose( np.transpose(confusion_dt)) / confusion_dt.astype(np.float).sum(axis=1)\n",
    "\n",
    "f = sns.heatmap(confusion_dt, annot=True, xticklabels=x_axis_labels, yticklabels=y_axis_labels)\n",
    "\n",
    "plt.xlabel('Predicted Label')\n",
    "plt.ylabel('True Label')\n",
    "plt.show()\n"
   ]
  },
  {
   "cell_type": "code",
   "execution_count": 18,
   "metadata": {},
   "outputs": [
    {
     "ename": "IndexError",
     "evalue": "index 230 is out of bounds for axis 0 with size 139",
     "output_type": "error",
     "traceback": [
      "\u001b[0;31m---------------------------------------------------------------------------\u001b[0m",
      "\u001b[0;31mIndexError\u001b[0m                                Traceback (most recent call last)",
      "\u001b[0;32m/var/folders/xw/gjkqcy4x1gqgcyvc45ys8srw0000gn/T/ipykernel_32207/2652363236.py\u001b[0m in \u001b[0;36m<module>\u001b[0;34m\u001b[0m\n\u001b[1;32m      5\u001b[0m \u001b[0;34m\u001b[0m\u001b[0m\n\u001b[1;32m      6\u001b[0m \u001b[0mfig\u001b[0m \u001b[0;34m=\u001b[0m \u001b[0mplt\u001b[0m\u001b[0;34m.\u001b[0m\u001b[0mfigure\u001b[0m\u001b[0;34m(\u001b[0m\u001b[0mfigsize\u001b[0m\u001b[0;34m=\u001b[0m\u001b[0;34m(\u001b[0m\u001b[0;36m25\u001b[0m\u001b[0;34m,\u001b[0m\u001b[0;36m20\u001b[0m\u001b[0;34m)\u001b[0m\u001b[0;34m)\u001b[0m\u001b[0;34m\u001b[0m\u001b[0;34m\u001b[0m\u001b[0m\n\u001b[0;32m----> 7\u001b[0;31m _ = tree.plot_tree(dt_CART, \n\u001b[0m\u001b[1;32m      8\u001b[0m                    \u001b[0mfeature_names\u001b[0m\u001b[0;34m=\u001b[0m\u001b[0mtrain_features\u001b[0m\u001b[0;34m,\u001b[0m\u001b[0;34m\u001b[0m\u001b[0;34m\u001b[0m\u001b[0m\n\u001b[1;32m      9\u001b[0m                    \u001b[0mclass_names\u001b[0m\u001b[0;34m=\u001b[0m\u001b[0mtrain_labels\u001b[0m\u001b[0;34m,\u001b[0m\u001b[0;34m\u001b[0m\u001b[0;34m\u001b[0m\u001b[0m\n",
      "\u001b[0;32m~/opt/anaconda3/lib/python3.8/site-packages/sklearn/tree/_export.py\u001b[0m in \u001b[0;36mplot_tree\u001b[0;34m(decision_tree, max_depth, feature_names, class_names, label, filled, impurity, node_ids, proportion, rounded, precision, ax, fontsize)\u001b[0m\n\u001b[1;32m    193\u001b[0m         \u001b[0mfontsize\u001b[0m\u001b[0;34m=\u001b[0m\u001b[0mfontsize\u001b[0m\u001b[0;34m,\u001b[0m\u001b[0;34m\u001b[0m\u001b[0;34m\u001b[0m\u001b[0m\n\u001b[1;32m    194\u001b[0m     )\n\u001b[0;32m--> 195\u001b[0;31m     \u001b[0;32mreturn\u001b[0m \u001b[0mexporter\u001b[0m\u001b[0;34m.\u001b[0m\u001b[0mexport\u001b[0m\u001b[0;34m(\u001b[0m\u001b[0mdecision_tree\u001b[0m\u001b[0;34m,\u001b[0m \u001b[0max\u001b[0m\u001b[0;34m=\u001b[0m\u001b[0max\u001b[0m\u001b[0;34m)\u001b[0m\u001b[0;34m\u001b[0m\u001b[0;34m\u001b[0m\u001b[0m\n\u001b[0m\u001b[1;32m    196\u001b[0m \u001b[0;34m\u001b[0m\u001b[0m\n\u001b[1;32m    197\u001b[0m \u001b[0;34m\u001b[0m\u001b[0m\n",
      "\u001b[0;32m~/opt/anaconda3/lib/python3.8/site-packages/sklearn/tree/_export.py\u001b[0m in \u001b[0;36mexport\u001b[0;34m(self, decision_tree, ax)\u001b[0m\n\u001b[1;32m    654\u001b[0m         \u001b[0max\u001b[0m\u001b[0;34m.\u001b[0m\u001b[0mclear\u001b[0m\u001b[0;34m(\u001b[0m\u001b[0;34m)\u001b[0m\u001b[0;34m\u001b[0m\u001b[0;34m\u001b[0m\u001b[0m\n\u001b[1;32m    655\u001b[0m         \u001b[0max\u001b[0m\u001b[0;34m.\u001b[0m\u001b[0mset_axis_off\u001b[0m\u001b[0;34m(\u001b[0m\u001b[0;34m)\u001b[0m\u001b[0;34m\u001b[0m\u001b[0;34m\u001b[0m\u001b[0m\n\u001b[0;32m--> 656\u001b[0;31m         \u001b[0mmy_tree\u001b[0m \u001b[0;34m=\u001b[0m \u001b[0mself\u001b[0m\u001b[0;34m.\u001b[0m\u001b[0m_make_tree\u001b[0m\u001b[0;34m(\u001b[0m\u001b[0;36m0\u001b[0m\u001b[0;34m,\u001b[0m \u001b[0mdecision_tree\u001b[0m\u001b[0;34m.\u001b[0m\u001b[0mtree_\u001b[0m\u001b[0;34m,\u001b[0m \u001b[0mdecision_tree\u001b[0m\u001b[0;34m.\u001b[0m\u001b[0mcriterion\u001b[0m\u001b[0;34m)\u001b[0m\u001b[0;34m\u001b[0m\u001b[0;34m\u001b[0m\u001b[0m\n\u001b[0m\u001b[1;32m    657\u001b[0m         \u001b[0mdraw_tree\u001b[0m \u001b[0;34m=\u001b[0m \u001b[0mbuchheim\u001b[0m\u001b[0;34m(\u001b[0m\u001b[0mmy_tree\u001b[0m\u001b[0;34m)\u001b[0m\u001b[0;34m\u001b[0m\u001b[0;34m\u001b[0m\u001b[0m\n\u001b[1;32m    658\u001b[0m \u001b[0;34m\u001b[0m\u001b[0m\n",
      "\u001b[0;32m~/opt/anaconda3/lib/python3.8/site-packages/sklearn/tree/_export.py\u001b[0m in \u001b[0;36m_make_tree\u001b[0;34m(self, node_id, et, criterion, depth)\u001b[0m\n\u001b[1;32m    630\u001b[0m         \u001b[0;31m# traverses _tree.Tree recursively, builds intermediate\u001b[0m\u001b[0;34m\u001b[0m\u001b[0;34m\u001b[0m\u001b[0;34m\u001b[0m\u001b[0m\n\u001b[1;32m    631\u001b[0m         \u001b[0;31m# \"_reingold_tilford.Tree\" object\u001b[0m\u001b[0;34m\u001b[0m\u001b[0;34m\u001b[0m\u001b[0;34m\u001b[0m\u001b[0m\n\u001b[0;32m--> 632\u001b[0;31m         \u001b[0mname\u001b[0m \u001b[0;34m=\u001b[0m \u001b[0mself\u001b[0m\u001b[0;34m.\u001b[0m\u001b[0mnode_to_str\u001b[0m\u001b[0;34m(\u001b[0m\u001b[0met\u001b[0m\u001b[0;34m,\u001b[0m \u001b[0mnode_id\u001b[0m\u001b[0;34m,\u001b[0m \u001b[0mcriterion\u001b[0m\u001b[0;34m=\u001b[0m\u001b[0mcriterion\u001b[0m\u001b[0;34m)\u001b[0m\u001b[0;34m\u001b[0m\u001b[0;34m\u001b[0m\u001b[0m\n\u001b[0m\u001b[1;32m    633\u001b[0m         if et.children_left[node_id] != _tree.TREE_LEAF and (\n\u001b[1;32m    634\u001b[0m             \u001b[0mself\u001b[0m\u001b[0;34m.\u001b[0m\u001b[0mmax_depth\u001b[0m \u001b[0;32mis\u001b[0m \u001b[0;32mNone\u001b[0m \u001b[0;32mor\u001b[0m \u001b[0mdepth\u001b[0m \u001b[0;34m<=\u001b[0m \u001b[0mself\u001b[0m\u001b[0;34m.\u001b[0m\u001b[0mmax_depth\u001b[0m\u001b[0;34m\u001b[0m\u001b[0;34m\u001b[0m\u001b[0m\n",
      "\u001b[0;32m~/opt/anaconda3/lib/python3.8/site-packages/sklearn/tree/_export.py\u001b[0m in \u001b[0;36mnode_to_str\u001b[0;34m(self, tree, node_id, criterion)\u001b[0m\n\u001b[1;32m    290\u001b[0m             \u001b[0;31m# Always write node decision criteria, except for leaves\u001b[0m\u001b[0;34m\u001b[0m\u001b[0;34m\u001b[0m\u001b[0;34m\u001b[0m\u001b[0m\n\u001b[1;32m    291\u001b[0m             \u001b[0;32mif\u001b[0m \u001b[0mself\u001b[0m\u001b[0;34m.\u001b[0m\u001b[0mfeature_names\u001b[0m \u001b[0;32mis\u001b[0m \u001b[0;32mnot\u001b[0m \u001b[0;32mNone\u001b[0m\u001b[0;34m:\u001b[0m\u001b[0;34m\u001b[0m\u001b[0;34m\u001b[0m\u001b[0m\n\u001b[0;32m--> 292\u001b[0;31m                 \u001b[0mfeature\u001b[0m \u001b[0;34m=\u001b[0m \u001b[0mself\u001b[0m\u001b[0;34m.\u001b[0m\u001b[0mfeature_names\u001b[0m\u001b[0;34m[\u001b[0m\u001b[0mtree\u001b[0m\u001b[0;34m.\u001b[0m\u001b[0mfeature\u001b[0m\u001b[0;34m[\u001b[0m\u001b[0mnode_id\u001b[0m\u001b[0;34m]\u001b[0m\u001b[0;34m]\u001b[0m\u001b[0;34m\u001b[0m\u001b[0;34m\u001b[0m\u001b[0m\n\u001b[0m\u001b[1;32m    293\u001b[0m             \u001b[0;32melse\u001b[0m\u001b[0;34m:\u001b[0m\u001b[0;34m\u001b[0m\u001b[0;34m\u001b[0m\u001b[0m\n\u001b[1;32m    294\u001b[0m                 feature = \"X%s%s%s\" % (\n",
      "\u001b[0;31mIndexError\u001b[0m: index 230 is out of bounds for axis 0 with size 139"
     ]
    },
    {
     "data": {
      "image/png": "[encoded data removed]",
      "text/plain": [
       "<Figure size 1800x1440 with 1 Axes>"
      ]
     },
     "metadata": {
      "needs_background": "light"
     },
     "output_type": "display_data"
    }
   ],
   "source": [
    "import matplotlib.pyplot as plt\n",
    "from sklearn import tree\n",
    "\n",
    "#Plotting decision Trees\n",
    "\n",
    "fig = plt.figure(figsize=(25,20))\n",
    "_ = tree.plot_tree(dt_CART, \n",
    "                   feature_names=train_features,  \n",
    "                   class_names=train_labels,\n",
    "                   filled=True)\n",
    "\n",
    "plt.show()"
   ]
  },
  {
   "cell_type": "code",
   "execution_count": null,
   "metadata": {},
   "outputs": [],
   "source": []
  }
 ],
 "metadata": {
  "kernelspec": {
   "display_name": "Python 3 (ipykernel)",
   "language": "python",
   "name": "python3"
  },
  "language_info": {
   "codemirror_mode": {
    "name": "ipython",
    "version": 3
   },
   "file_extension": ".py",
   "mimetype": "text/x-python",
   "name": "python",
   "nbconvert_exporter": "python",
   "pygments_lexer": "ipython3",
   "version": "3.8.12"
  }
 },
 "nbformat": 4,
 "nbformat_minor": 4
}
